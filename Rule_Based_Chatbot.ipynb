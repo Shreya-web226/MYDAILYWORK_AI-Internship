{
  "nbformat": 4,
  "nbformat_minor": 0,
  "metadata": {
    "colab": {
      "provenance": [],
      "authorship_tag": "ABX9TyM9DA5g4gmmKYp+2hi8Amzs",
      "include_colab_link": true
    },
    "kernelspec": {
      "name": "python3",
      "display_name": "Python 3"
    },
    "language_info": {
      "name": "python"
    }
  },
  "cells": [
    {
      "cell_type": "markdown",
      "metadata": {
        "id": "view-in-github",
        "colab_type": "text"
      },
      "source": [
        "<a href=\"https://colab.research.google.com/github/Shreya-web226/MYDAILYWORK_AI-Internship/blob/main/Rule_Based_Chatbot.ipynb\" target=\"_parent\"><img src=\"https://colab.research.google.com/assets/colab-badge.svg\" alt=\"Open In Colab\"/></a>"
      ]
    },
    {
      "cell_type": "code",
      "source": [
        "import random\n",
        "\n",
        "def get_response(user_input):\n",
        "    \"\"\"\n",
        "    This function takes user input as an argument and returns a rule-based response.\n",
        "    \"\"\"\n",
        "    user_input = user_input.lower()\n",
        "\n",
        "    # Define rule-based responses\n",
        "    if \"hello\" in user_input or \"hi\" in user_input:\n",
        "        return random.choice([\"Hello! How can I assist you?\", \"Hi there! What can I do for you today?\"])\n",
        "    elif \"how are you\" in user_input:\n",
        "        return \"I'm just a bot, but I'm doing great! How about you?\"\n",
        "    elif \"what is your name\" in user_input:\n",
        "        return \"I'm the MyDailyWork Chatbot, designed to assist you with AI tasks.\"\n",
        "    elif \"bye\" in user_input or \"goodbye\" in user_input:\n",
        "        return \"Goodbye! Have a great day!\"\n",
        "    elif \"what can you do\" in user_input:\n",
        "        return \"I can answer simple questions based on predefined rules. Try asking me something else!\"\n",
        "    else:\n",
        "        return \"I'm sorry, I didn't understand that. Could you please rephrase?\"\n",
        "\n",
        "def chat():\n",
        "    \"\"\"\n",
        "    This function starts the chatbot, allowing users to input their queries and get responses.\n",
        "    \"\"\"\n",
        "    print(\"Welcome to MyDailyWork Chatbot! Type 'bye' to exit.\")\n",
        "    while True:\n",
        "        # Get user input\n",
        "        user_input = input(\"You: \")\n",
        "\n",
        "        # Check if the user wants to exit the chat\n",
        "        if user_input.lower() == \"bye\":\n",
        "            print(\"Chatbot: Goodbye! Have a great day!\")\n",
        "            break\n",
        "\n",
        "        # Get and print the chatbot's response\n",
        "        response = get_response(user_input)\n",
        "        print(f\"Chatbot: {response}\")\n",
        "\n",
        "if __name__ == \"__main__\":\n",
        "    chat()\n"
      ],
      "metadata": {
        "colab": {
          "base_uri": "https://localhost:8080/"
        },
        "id": "KdoTOkF0a3n8",
        "outputId": "a769f50c-bbd4-45cf-cec0-adcfb2a94c49"
      },
      "execution_count": null,
      "outputs": [
        {
          "output_type": "stream",
          "name": "stdout",
          "text": [
            "Welcome to MyDailyWork Chatbot! Type 'bye' to exit.\n"
          ]
        }
      ]
    }
  ]
}